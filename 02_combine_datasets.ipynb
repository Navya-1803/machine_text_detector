{
 "cells": [
  {
   "cell_type": "code",
   "execution_count": 1,
   "id": "43ff1129",
   "metadata": {},
   "outputs": [
    {
     "name": "stdout",
     "output_type": "stream",
     "text": [
      "Pile columns: Index(['source', 'id', 'text'], dtype='object')\n"
     ]
    },
    {
     "data": {
      "text/html": [
       "<div>\n",
       "<style scoped>\n",
       "    .dataframe tbody tr th:only-of-type {\n",
       "        vertical-align: middle;\n",
       "    }\n",
       "\n",
       "    .dataframe tbody tr th {\n",
       "        vertical-align: top;\n",
       "    }\n",
       "\n",
       "    .dataframe thead th {\n",
       "        text-align: right;\n",
       "    }\n",
       "</style>\n",
       "<table border=\"1\" class=\"dataframe\">\n",
       "  <thead>\n",
       "    <tr style=\"text-align: right;\">\n",
       "      <th></th>\n",
       "      <th>source</th>\n",
       "      <th>id</th>\n",
       "      <th>text</th>\n",
       "    </tr>\n",
       "  </thead>\n",
       "  <tbody>\n",
       "    <tr>\n",
       "      <th>0</th>\n",
       "      <td>human</td>\n",
       "      <td>0</td>\n",
       "      <td>12 Years a Slave: An Analysis of the Film Essa...</td>\n",
       "    </tr>\n",
       "    <tr>\n",
       "      <th>1</th>\n",
       "      <td>human</td>\n",
       "      <td>1</td>\n",
       "      <td>20+ Social Media Post Ideas to Radically Simpl...</td>\n",
       "    </tr>\n",
       "    <tr>\n",
       "      <th>2</th>\n",
       "      <td>human</td>\n",
       "      <td>2</td>\n",
       "      <td>2022 Russian Invasion of Ukraine in Global Med...</td>\n",
       "    </tr>\n",
       "    <tr>\n",
       "      <th>3</th>\n",
       "      <td>human</td>\n",
       "      <td>3</td>\n",
       "      <td>533 U.S. 27 (2001) Kyllo v. United States: The...</td>\n",
       "    </tr>\n",
       "    <tr>\n",
       "      <th>4</th>\n",
       "      <td>human</td>\n",
       "      <td>4</td>\n",
       "      <td>A Charles Schwab Corporation Case Essay\\n\\nCha...</td>\n",
       "    </tr>\n",
       "  </tbody>\n",
       "</table>\n",
       "</div>"
      ],
      "text/plain": [
       "  source  id                                               text\n",
       "0  human   0  12 Years a Slave: An Analysis of the Film Essa...\n",
       "1  human   1  20+ Social Media Post Ideas to Radically Simpl...\n",
       "2  human   2  2022 Russian Invasion of Ukraine in Global Med...\n",
       "3  human   3  533 U.S. 27 (2001) Kyllo v. United States: The...\n",
       "4  human   4  A Charles Schwab Corporation Case Essay\\n\\nCha..."
      ]
     },
     "execution_count": 1,
     "metadata": {},
     "output_type": "execute_result"
    }
   ],
   "source": [
    "from datasets import load_dataset\n",
    "import pandas as pd\n",
    "\n",
    "# Load Pile dataset from Hugging Face\n",
    "ds_pile = load_dataset(\"artem9k/ai-text-detection-pile\", split=\"train\")\n",
    "\n",
    "# Convert to pandas DataFrame\n",
    "df_pile = ds_pile.to_pandas()\n",
    "\n",
    "# Show available columns\n",
    "print(\"Pile columns:\", df_pile.columns)\n",
    "df_pile.head()\n"
   ]
  },
  {
   "cell_type": "code",
   "execution_count": 2,
   "id": "78a4ce2c",
   "metadata": {},
   "outputs": [
    {
     "name": "stdout",
     "output_type": "stream",
     "text": [
      "label\n",
      "0.0    1028146\n",
      "Name: count, dtype: int64\n"
     ]
    },
    {
     "data": {
      "text/html": [
       "<div>\n",
       "<style scoped>\n",
       "    .dataframe tbody tr th:only-of-type {\n",
       "        vertical-align: middle;\n",
       "    }\n",
       "\n",
       "    .dataframe tbody tr th {\n",
       "        vertical-align: top;\n",
       "    }\n",
       "\n",
       "    .dataframe thead th {\n",
       "        text-align: right;\n",
       "    }\n",
       "</style>\n",
       "<table border=\"1\" class=\"dataframe\">\n",
       "  <thead>\n",
       "    <tr style=\"text-align: right;\">\n",
       "      <th></th>\n",
       "      <th>text</th>\n",
       "      <th>label</th>\n",
       "    </tr>\n",
       "  </thead>\n",
       "  <tbody>\n",
       "    <tr>\n",
       "      <th>0</th>\n",
       "      <td>12 Years a Slave: An Analysis of the Film Essa...</td>\n",
       "      <td>0.0</td>\n",
       "    </tr>\n",
       "    <tr>\n",
       "      <th>1</th>\n",
       "      <td>20+ Social Media Post Ideas to Radically Simpl...</td>\n",
       "      <td>0.0</td>\n",
       "    </tr>\n",
       "    <tr>\n",
       "      <th>2</th>\n",
       "      <td>2022 Russian Invasion of Ukraine in Global Med...</td>\n",
       "      <td>0.0</td>\n",
       "    </tr>\n",
       "    <tr>\n",
       "      <th>3</th>\n",
       "      <td>533 U.S. 27 (2001) Kyllo v. United States: The...</td>\n",
       "      <td>0.0</td>\n",
       "    </tr>\n",
       "    <tr>\n",
       "      <th>4</th>\n",
       "      <td>A Charles Schwab Corporation Case Essay\\n\\nCha...</td>\n",
       "      <td>0.0</td>\n",
       "    </tr>\n",
       "  </tbody>\n",
       "</table>\n",
       "</div>"
      ],
      "text/plain": [
       "                                                text  label\n",
       "0  12 Years a Slave: An Analysis of the Film Essa...    0.0\n",
       "1  20+ Social Media Post Ideas to Radically Simpl...    0.0\n",
       "2  2022 Russian Invasion of Ukraine in Global Med...    0.0\n",
       "3  533 U.S. 27 (2001) Kyllo v. United States: The...    0.0\n",
       "4  A Charles Schwab Corporation Case Essay\\n\\nCha...    0.0"
      ]
     },
     "execution_count": 2,
     "metadata": {},
     "output_type": "execute_result"
    }
   ],
   "source": [
    "# Only keep necessary columns\n",
    "df_pile = df_pile[[\"text\", \"source\"]]\n",
    "\n",
    "# Rename 'source' → 'label'\n",
    "df_pile.rename(columns={\"source\": \"label\"}, inplace=True)\n",
    "\n",
    "# Normalize label values\n",
    "df_pile[\"label\"] = df_pile[\"label\"].map({\"human\": 0, \"machine\": 1})\n",
    "\n",
    "# Drop any missing data\n",
    "df_pile.dropna(inplace=True)\n",
    "\n",
    "# Preview result\n",
    "print(df_pile[\"label\"].value_counts())\n",
    "df_pile.head()\n"
   ]
  },
  {
   "cell_type": "code",
   "execution_count": 5,
   "id": "6768ea5d",
   "metadata": {},
   "outputs": [
    {
     "name": "stdout",
     "output_type": "stream",
     "text": [
      "✅ Extracted HumanEval.jsonl successfully.\n"
     ]
    }
   ],
   "source": [
    "import gzip\n",
    "import shutil\n",
    "\n",
    "# Define paths\n",
    "input_path = \"human-eval/data/HumanEval.jsonl.gz\"\n",
    "output_path = \"human-eval/data/HumanEval.jsonl\"\n",
    "\n",
    "# Extract the .gz file\n",
    "with gzip.open(input_path, \"rb\") as f_in:\n",
    "    with open(output_path, \"wb\") as f_out:\n",
    "        shutil.copyfileobj(f_in, f_out)\n",
    "\n",
    "print(\"✅ Extracted HumanEval.jsonl successfully.\")\n"
   ]
  },
  {
   "cell_type": "code",
   "execution_count": 6,
   "id": "61b74ff5",
   "metadata": {},
   "outputs": [
    {
     "data": {
      "text/html": [
       "<div>\n",
       "<style scoped>\n",
       "    .dataframe tbody tr th:only-of-type {\n",
       "        vertical-align: middle;\n",
       "    }\n",
       "\n",
       "    .dataframe tbody tr th {\n",
       "        vertical-align: top;\n",
       "    }\n",
       "\n",
       "    .dataframe thead th {\n",
       "        text-align: right;\n",
       "    }\n",
       "</style>\n",
       "<table border=\"1\" class=\"dataframe\">\n",
       "  <thead>\n",
       "    <tr style=\"text-align: right;\">\n",
       "      <th></th>\n",
       "      <th>text</th>\n",
       "      <th>label</th>\n",
       "    </tr>\n",
       "  </thead>\n",
       "  <tbody>\n",
       "    <tr>\n",
       "      <th>0</th>\n",
       "      <td>from typing import List\\n\\n\\ndef has_close_ele...</td>\n",
       "      <td>0</td>\n",
       "    </tr>\n",
       "    <tr>\n",
       "      <th>1</th>\n",
       "      <td>from typing import List\\n\\n\\ndef separate_pare...</td>\n",
       "      <td>0</td>\n",
       "    </tr>\n",
       "    <tr>\n",
       "      <th>2</th>\n",
       "      <td>def truncate_number(number: float) -&gt; float:\\n...</td>\n",
       "      <td>0</td>\n",
       "    </tr>\n",
       "    <tr>\n",
       "      <th>3</th>\n",
       "      <td>from typing import List\\n\\n\\ndef below_zero(op...</td>\n",
       "      <td>0</td>\n",
       "    </tr>\n",
       "    <tr>\n",
       "      <th>4</th>\n",
       "      <td>from typing import List\\n\\n\\ndef mean_absolute...</td>\n",
       "      <td>0</td>\n",
       "    </tr>\n",
       "  </tbody>\n",
       "</table>\n",
       "</div>"
      ],
      "text/plain": [
       "                                                text  label\n",
       "0  from typing import List\\n\\n\\ndef has_close_ele...      0\n",
       "1  from typing import List\\n\\n\\ndef separate_pare...      0\n",
       "2  def truncate_number(number: float) -> float:\\n...      0\n",
       "3  from typing import List\\n\\n\\ndef below_zero(op...      0\n",
       "4  from typing import List\\n\\n\\ndef mean_absolute...      0"
      ]
     },
     "execution_count": 6,
     "metadata": {},
     "output_type": "execute_result"
    }
   ],
   "source": [
    "import json\n",
    "import pandas as pd\n",
    "\n",
    "# Load human-eval data\n",
    "human_lines = []\n",
    "with open(\"human-eval/data/HumanEval.jsonl\", \"r\") as f:\n",
    "    for line in f:\n",
    "        obj = json.loads(line)\n",
    "        text = obj[\"prompt\"].strip()\n",
    "        if text:\n",
    "            human_lines.append(text)\n",
    "\n",
    "df_human_eval = pd.DataFrame({\n",
    "    \"text\": human_lines,\n",
    "    \"label\": 0  # Human\n",
    "})\n",
    "\n",
    "df_human_eval.head()\n"
   ]
  },
  {
   "cell_type": "code",
   "execution_count": 8,
   "id": "9a04fd7e",
   "metadata": {},
   "outputs": [
    {
     "name": "stdout",
     "output_type": "stream",
     "text": [
      "✅ pile_dataset.csv saved to data_raw/\n"
     ]
    }
   ],
   "source": [
    "from datasets import load_dataset\n",
    "import pandas as pd\n",
    "\n",
    "# Load the dataset from HuggingFace\n",
    "dataset = load_dataset(\"artem9k/ai-text-detection-pile\", split=\"train\")\n",
    "\n",
    "# Convert to pandas DataFrame\n",
    "df_pile = dataset.to_pandas()\n",
    "\n",
    "# Only keep needed columns\n",
    "df_pile = df_pile[[\"text\", \"source\"]]\n",
    "\n",
    "# Rename 'source' to 'label' for consistency\n",
    "df_pile.rename(columns={\"source\": \"label\"}, inplace=True)\n",
    "\n",
    "# Map labels to binary: human=0, machine=1\n",
    "df_pile[\"label\"] = df_pile[\"label\"].map({\"human\": 0, \"machine\": 1})\n",
    "\n",
    "# Save to CSV\n",
    "df_pile.to_csv(\"data_raw/pile_dataset.csv\", index=False)\n",
    "\n",
    "print(\"✅ pile_dataset.csv saved to data_raw/\")\n"
   ]
  },
  {
   "cell_type": "code",
   "execution_count": 2,
   "id": "b741fafe",
   "metadata": {},
   "outputs": [
    {
     "name": "stdout",
     "output_type": "stream",
     "text": [
      "✅ Final combined dataset saved as data_raw/combined_dataset.csv\n",
      "label\n",
      "1.0    1521796\n",
      "0.0    1028310\n",
      "Name: count, dtype: int64\n"
     ]
    }
   ],
   "source": [
    "import pandas as pd\n",
    "\n",
    "# Load all datasets\n",
    "df_kaggle = pd.read_csv(\"data_raw/Training_Essay_Data.csv\")\n",
    "df_kaggle = df_kaggle[[\"text\", \"generated\"]].rename(columns={\"generated\": \"label\"})\n",
    "df_kaggle[\"label\"] = df_kaggle[\"label\"].astype(str).str.lower().map({\"human\": 0, \"ai\": 1})\n",
    "df_kaggle.dropna(inplace=True)\n",
    "\n",
    "df_pile = pd.read_csv(\"data_raw/pile_dataset.csv\")[[\"text\", \"label\"]]\n",
    "df_pile.dropna(inplace=True)\n",
    "\n",
    "df_humaneval = pd.read_csv(\"data_raw/humaneval_dataset.csv\")  \n",
    "df_ahmad = pd.read_csv(\"data_raw/ai_only_ahmadreza.csv\")\n",
    "\n",
    "# Combine all datasets\n",
    "df_combined = pd.concat([df_kaggle, df_pile, df_humaneval, df_ahmad], ignore_index=True)\n",
    "df_combined.dropna(inplace=True)\n",
    "\n",
    "# Final shuffle (important)\n",
    "df_combined = df_combined.sample(frac=1, random_state=42).reset_index(drop=True)\n",
    "\n",
    "# Save\n",
    "df_combined.to_csv(\"data_raw/combined_dataset.csv\", index=False)\n",
    "\n",
    "print(\"✅ Final combined dataset saved as data_raw/combined_dataset.csv\")\n",
    "print(df_combined[\"label\"].value_counts())\n"
   ]
  },
  {
   "cell_type": "code",
   "execution_count": null,
   "id": "033c53c3",
   "metadata": {},
   "outputs": [
    {
     "name": "stdout",
     "output_type": "stream",
     "text": [
      "✅ Saved 600k balanced dataset.\n"
     ]
    }
   ],
   "source": [
    "# ✅ Sample 300k each for a balanced 600k dataset\n",
    "\n",
    "import pandas as pd\n",
    "\n",
    "# Load full combined dataset\n",
    "df = pd.read_csv(\"data_raw/combined_dataset.csv\")\n",
    "\n",
    "# Sample 300k each\n",
    "df_human = df[df[\"label\"] == 0].sample(n=300_000, random_state=42)\n",
    "df_ai = df[df[\"label\"] == 1].sample(n=300_000, random_state=42)\n",
    "\n",
    "# Combine and shuffle\n",
    "df_balanced = pd.concat([df_human, df_ai]).sample(frac=1, random_state=42).reset_index(drop=True)\n",
    "\n",
    "# Save it\n",
    "df_balanced.to_csv(\"data_raw/balanced_600k_dataset.csv\", index=False)\n",
    "print(\"✅ Saved 600k balanced dataset.\")\n"
   ]
  },
  {
   "cell_type": "code",
   "execution_count": null,
   "id": "7b276c81",
   "metadata": {},
   "outputs": [],
   "source": []
  }
 ],
 "metadata": {
  "kernelspec": {
   "display_name": "Python 3",
   "language": "python",
   "name": "python3"
  },
  "language_info": {
   "codemirror_mode": {
    "name": "ipython",
    "version": 3
   },
   "file_extension": ".py",
   "mimetype": "text/x-python",
   "name": "python",
   "nbconvert_exporter": "python",
   "pygments_lexer": "ipython3",
   "version": "3.13.2"
  }
 },
 "nbformat": 4,
 "nbformat_minor": 5
}
